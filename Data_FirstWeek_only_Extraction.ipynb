{
 "cells": [
  {
   "cell_type": "code",
   "execution_count": 65,
   "id": "884093d0-eff8-45f3-8b78-e00c9025775a",
   "metadata": {},
   "outputs": [],
   "source": [
    "import pandas as pd\n",
    "\n",
    "def extract_first_week_data(file_path, output_file='first_week_data.csv'):\n",
    "    \"\"\"\n",
    "    Load dataset, rename 'Unnamed: 0' to 'Date-Time' if necessary,\n",
    "    and extract data for the first week of October 2024.\n",
    "    \n",
    "    Parameters:\n",
    "        file_path (str): Path to the input CSV file.\n",
    "        output_file (str): Path to save the filtered data.\n",
    "    \n",
    "    Returns:\n",
    "        None\n",
    "    \"\"\"\n",
    "    # Load dataset with 'Date-Time' as strings\n",
    "    df = pd.read_csv(file_path, dtype={'Unnamed: 0': str})\n",
    "    \n",
    "    # Rename 'Unnamed: 0' to 'Date-Time' if not done yet\n",
    "    if 'Unnamed: 0' in df.columns:\n",
    "        df.rename(columns={'Unnamed: 0': 'Date-Time'}, inplace=True)\n",
    "\n",
    "    # Attempt to convert 'Date-Time' to datetime format\n",
    "    # Checking the format of the first non-empty entry\n",
    "    sample_entry = df['Date-Time'].dropna().iloc[0]\n",
    "    if '/' in sample_entry:  # This suggests the format is likely %d/%m/%Y\n",
    "        df['Date-Time'] = pd.to_datetime(df['Date-Time'].str.strip(), format='%d/%m/%Y %H:%M', errors='coerce')\n",
    "    else:  # Assume the format is likely %Y-%m-%d\n",
    "        df['Date-Time'] = pd.to_datetime(df['Date-Time'].str.strip(), format='%Y-%m-%d %H:%M:%S', errors='coerce')\n",
    "    \n",
    "    # Check for any conversion errors\n",
    "    if df['Date-Time'].isnull().any():\n",
    "        print(\"Conversion issues with 'Date-Time' detected. Rows with NaT:\")\n",
    "        # print(df[df['Date-Time'].isnull()])\n",
    "        # # Additionally, print the original 'Date-Time' entries that caused NaT\n",
    "        # print(\"Original 'Date-Time' entries causing issues:\")\n",
    "        # problematic_rows = df[df['Date-Time'].isnull()]['Date-Time']\n",
    "        # print(problematic_rows)\n",
    "\n",
    "    # Filter for the first week of October 2024 (October 1 to October 7)\n",
    "    first_week_data = df[(df['Date-Time'] >= '2024-10-01') & (df['Date-Time'] < '2024-10-08')]\n",
    "    \n",
    "    # Check if any data was found\n",
    "    if not first_week_data.empty:\n",
    "        # Save to output file\n",
    "        first_week_data.to_csv(output_file, index=False)\n",
    "        print(f\"Data for the first week of October 2024 saved to '{output_file}'\")\n",
    "    else:\n",
    "        print(\"No data found for the first week of October 2024.\")\n"
   ]
  },
  {
   "cell_type": "code",
   "execution_count": 66,
   "id": "7ba7e869-518c-4627-a9e5-3ef84472aad3",
   "metadata": {},
   "outputs": [
    {
     "name": "stdout",
     "output_type": "stream",
     "text": [
      "Data for the first week of October 2024 saved to 'data/FIRST_WEEK_channel_A_schedule.csv'\n"
     ]
    }
   ],
   "source": [
    "extract_first_week_data('data/channel_A_schedule.csv', 'data/FIRST_WEEK_channel_A_schedule.csv')"
   ]
  },
  {
   "cell_type": "code",
   "execution_count": null,
   "id": "3a56f083-76a8-4707-9c4d-981c49fbf1da",
   "metadata": {},
   "outputs": [],
   "source": []
  },
  {
   "cell_type": "code",
   "execution_count": 67,
   "id": "04f46222-414f-47ea-bb0f-2c9c220321e7",
   "metadata": {},
   "outputs": [
    {
     "name": "stdout",
     "output_type": "stream",
     "text": [
      "Data for the first week of October 2024 saved to 'data/FIRST_WEEK_channel_0_schedule.csv'\n"
     ]
    }
   ],
   "source": [
    "extract_first_week_data('data/channel_0_schedule.csv', 'data/FIRST_WEEK_channel_0_schedule.csv')"
   ]
  },
  {
   "cell_type": "code",
   "execution_count": 68,
   "id": "0c888cf7-ef7e-4ea5-a12f-2ce202366388",
   "metadata": {},
   "outputs": [
    {
     "name": "stdout",
     "output_type": "stream",
     "text": [
      "Data for the first week of October 2024 saved to 'data/FIRST_WEEK_channel_1_schedule.csv'\n"
     ]
    }
   ],
   "source": [
    "extract_first_week_data('data/channel_1_schedule.csv', 'data/FIRST_WEEK_channel_1_schedule.csv')"
   ]
  },
  {
   "cell_type": "code",
   "execution_count": 69,
   "id": "c79224d9-c42d-4b42-aade-93b2b37dec0f",
   "metadata": {},
   "outputs": [
    {
     "name": "stdout",
     "output_type": "stream",
     "text": [
      "Data for the first week of October 2024 saved to 'data/FIRST_WEEK_channel_2_schedule.csv'\n"
     ]
    }
   ],
   "source": [
    "extract_first_week_data('data/channel_2_schedule.csv', 'data/FIRST_WEEK_channel_2_schedule.csv')"
   ]
  },
  {
   "cell_type": "code",
   "execution_count": null,
   "id": "c54beb13-f912-4a5a-b09b-aea145238d85",
   "metadata": {},
   "outputs": [],
   "source": []
  },
  {
   "cell_type": "code",
   "execution_count": 70,
   "id": "a6fe3734-b808-4ea4-990b-0a3af759a92e",
   "metadata": {},
   "outputs": [
    {
     "name": "stdout",
     "output_type": "stream",
     "text": [
      "Data for the first week of October 2024 saved to 'data/FIRST_WEEK_channel_0_conversion_rates.csv'\n"
     ]
    }
   ],
   "source": [
    "extract_first_week_data('data/channel_0_conversion_rates.csv', 'data/FIRST_WEEK_channel_0_conversion_rates.csv')"
   ]
  },
  {
   "cell_type": "code",
   "execution_count": 71,
   "id": "d6b5e3c2-6367-40e7-95a0-beab607da783",
   "metadata": {},
   "outputs": [
    {
     "name": "stdout",
     "output_type": "stream",
     "text": [
      "Data for the first week of October 2024 saved to 'data/FIRST_WEEK_channel_1_conversion_rates.csv'\n"
     ]
    }
   ],
   "source": [
    "extract_first_week_data('data/channel_1_conversion_rates.csv', 'data/FIRST_WEEK_channel_1_conversion_rates.csv')"
   ]
  },
  {
   "cell_type": "code",
   "execution_count": 72,
   "id": "092e23da-42dd-4883-b30b-fb3b37526fbf",
   "metadata": {},
   "outputs": [
    {
     "name": "stdout",
     "output_type": "stream",
     "text": [
      "Data for the first week of October 2024 saved to 'data/FIRST_WEEK_channel_2_conversion_rates.csv'\n"
     ]
    }
   ],
   "source": [
    "extract_first_week_data('data/channel_2_conversion_rates.csv', 'data/FIRST_WEEK_channel_2_conversion_rates.csv')"
   ]
  },
  {
   "cell_type": "code",
   "execution_count": null,
   "id": "a7d10b6a-a59e-4dd4-ba84-611380df59f1",
   "metadata": {},
   "outputs": [],
   "source": []
  }
 ],
 "metadata": {
  "kernelspec": {
   "display_name": "Python 3 (ipykernel)",
   "language": "python",
   "name": "python3"
  },
  "language_info": {
   "codemirror_mode": {
    "name": "ipython",
    "version": 3
   },
   "file_extension": ".py",
   "mimetype": "text/x-python",
   "name": "python",
   "nbconvert_exporter": "python",
   "pygments_lexer": "ipython3",
   "version": "3.12.7"
  }
 },
 "nbformat": 4,
 "nbformat_minor": 5
}
