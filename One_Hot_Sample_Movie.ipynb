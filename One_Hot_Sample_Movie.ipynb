{
 "cells": [
  {
   "cell_type": "code",
   "execution_count": 2,
   "id": "2e7306b4-d98e-4f58-9360-f5e6751b2da2",
   "metadata": {},
   "outputs": [
    {
     "name": "stdout",
     "output_type": "stream",
     "text": [
      "One_Hot file saved to data/movie_db_one_hot_genres.csv\n"
     ]
    }
   ],
   "source": [
    "import pandas as pd\n",
    "\n",
    "def process_genres(input_csv, output_csv):\n",
    "    # List of genres in this order\n",
    "    genres = [\n",
    "        'Western', 'Adventure', 'Crime', 'Thriller', 'Fantasy', 'Documentary',\n",
    "        'Music', 'Action', 'TV Movie', 'Drama', 'Mystery', 'Science Fiction',\n",
    "        'Comedy', 'Family', 'Horror', 'War', 'Animation', 'History', 'Romance'\n",
    "    ]\n",
    "    \n",
    "    df = pd.read_csv(input_csv)\n",
    "    \n",
    "    for genre in genres:\n",
    "        df[genre] = df['genres'].apply(lambda x: int(genre in x))\n",
    "    \n",
    "    genre_df = df[genres]\n",
    "    \n",
    "    genre_df.to_csv(output_csv, index=False)\n",
    "    \n",
    "    print(f\"One_Hot file saved to {output_csv}\")\n",
    "\n",
    "process_genres('data/movie_database_with_license_fee.csv', 'data/movie_db_one_hot_genres.csv')"
   ]
  },
  {
   "cell_type": "code",
   "execution_count": null,
   "id": "425c3950-c8b4-4668-91f6-a48762e078ea",
   "metadata": {},
   "outputs": [],
   "source": []
  },
  {
   "cell_type": "code",
   "execution_count": 12,
   "id": "888b9d50-9822-4e7f-ad41-1a7c768d7244",
   "metadata": {},
   "outputs": [
    {
     "name": "stdout",
     "output_type": "stream",
     "text": [
      "One_Hot file saved to data/filtered_movie_db_one_hot_genres.csv\n"
     ]
    }
   ],
   "source": [
    "process_genres('data/filtered_movie_database.csv', 'data/filtered_movie_db_one_hot_genres.csv')"
   ]
  },
  {
   "cell_type": "code",
   "execution_count": null,
   "id": "56bd5602-c63e-4596-ad5b-f8ad33cbaf38",
   "metadata": {},
   "outputs": [],
   "source": []
  }
 ],
 "metadata": {
  "kernelspec": {
   "display_name": "Python 3 (ipykernel)",
   "language": "python",
   "name": "python3"
  },
  "language_info": {
   "codemirror_mode": {
    "name": "ipython",
    "version": 3
   },
   "file_extension": ".py",
   "mimetype": "text/x-python",
   "name": "python",
   "nbconvert_exporter": "python",
   "pygments_lexer": "ipython3",
   "version": "3.12.7"
  }
 },
 "nbformat": 4,
 "nbformat_minor": 5
}
