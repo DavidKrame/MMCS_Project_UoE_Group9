{
 "cells": [
  {
   "cell_type": "markdown",
   "id": "f39a3d9a-cdb5-4341-a11e-fd0608e24981",
   "metadata": {},
   "source": [
    "# MOVIE DB PREPROCESSING"
   ]
  },
  {
   "cell_type": "code",
   "execution_count": 45,
   "id": "6def0589-32eb-489a-80a0-16507ea83635",
   "metadata": {},
   "outputs": [],
   "source": [
    "import pandas as pd\n",
    "\n",
    "movie_db_df = pd.read_csv('data/movie_database_with_license_fee.csv', parse_dates=['release_date'])\n",
    "\n",
    "filtered_df = movie_db_df[\n",
    "    (movie_db_df['vote_average'] >= 5.5) & \n",
    "    (movie_db_df['vote_average'] <= 7.5) & \n",
    "    (movie_db_df['release_date'] > '2000-01-01') & \n",
    "    # (movie_db_df['revenue'] > movie_db_df['budget']) & # No need of this condition if we want to take the worse scenario\n",
    "    # (movie_db_df['license_fee'] < 1e6)\n",
    "    (movie_db_df['license_fee'] > 1e6) # The model will be ran in the worse scenarios (in terms of the budget)\n",
    "]\n",
    "\n",
    "filtered_df.to_csv('data/filtered_movie_database.csv', index=False)"
   ]
  },
  {
   "cell_type": "code",
   "execution_count": 46,
   "id": "948ca29d-0782-47d5-90b1-dcbe58227073",
   "metadata": {},
   "outputs": [],
   "source": [
    "filtered_movie_db_df = pd.read_csv('data/filtered_movie_database.csv', parse_dates=['release_date'])"
   ]
  },
  {
   "cell_type": "code",
   "execution_count": 47,
   "id": "43a5d1f1-9862-4a3c-98e5-554597177db9",
   "metadata": {},
   "outputs": [
    {
     "name": "stdout",
     "output_type": "stream",
     "text": [
      "5920\n",
      "136\n"
     ]
    }
   ],
   "source": [
    "print(len(movie_db_df))\n",
    "print(len(filtered_movie_db_df))"
   ]
  },
  {
   "cell_type": "code",
   "execution_count": null,
   "id": "b6903c0f-a454-46b9-88a2-0771fc284815",
   "metadata": {},
   "outputs": [],
   "source": []
  },
  {
   "cell_type": "code",
   "execution_count": 60,
   "id": "b09ce1ee-c9f2-43b7-b069-db7b75a8070c",
   "metadata": {},
   "outputs": [],
   "source": [
    "weekend_movies_df = filtered_movie_db_df[\n",
    "    (filtered_movie_db_df['popularity'] >= 65)\n",
    "]\n",
    "\n",
    "weekend_movies_df.to_csv('data/filtered_movie_database_weekend.csv', index=False)"
   ]
  },
  {
   "cell_type": "code",
   "execution_count": 61,
   "id": "a61f0fa7-91ac-4e52-b42e-077cb6a41201",
   "metadata": {},
   "outputs": [],
   "source": [
    "weekend_movies_data = pd.read_csv('data/filtered_movie_database_weekend.csv', parse_dates=['release_date'])"
   ]
  },
  {
   "cell_type": "code",
   "execution_count": 62,
   "id": "3794a3ed-3771-48ba-b09f-e4549bdc938f",
   "metadata": {},
   "outputs": [
    {
     "name": "stdout",
     "output_type": "stream",
     "text": [
      "136\n",
      "39\n"
     ]
    }
   ],
   "source": [
    "print(len(filtered_movie_db_df))\n",
    "print(len(weekend_movies_data))"
   ]
  },
  {
   "cell_type": "code",
   "execution_count": 64,
   "id": "0904cdc7-ec0f-4077-9df9-6248a68106ad",
   "metadata": {},
   "outputs": [],
   "source": [
    "# Remove rows from weekend_data that are also in filtered_data\n",
    "working_days_df = pd.concat([filtered_movie_db_df, weekend_movies_data, weekend_movies_data]).drop_duplicates(keep=False)\n",
    "\n",
    "filtered_df.to_csv(\"data/filtered_movie_database_working_days.csv\", index=False)"
   ]
  },
  {
   "cell_type": "code",
   "execution_count": 65,
   "id": "5af02532-113f-4b1f-b297-b4e92dce1667",
   "metadata": {},
   "outputs": [
    {
     "name": "stdout",
     "output_type": "stream",
     "text": [
      "136\n",
      "39\n",
      "97\n"
     ]
    }
   ],
   "source": [
    "print(len(filtered_movie_db_df))\n",
    "print(len(weekend_movies_data))\n",
    "print(len(working_days_df))"
   ]
  },
  {
   "cell_type": "code",
   "execution_count": null,
   "id": "144fe561-2a51-4688-bf23-b802ae2fa863",
   "metadata": {},
   "outputs": [],
   "source": []
  }
 ],
 "metadata": {
  "kernelspec": {
   "display_name": "Python 3 (ipykernel)",
   "language": "python",
   "name": "python3"
  },
  "language_info": {
   "codemirror_mode": {
    "name": "ipython",
    "version": 3
   },
   "file_extension": ".py",
   "mimetype": "text/x-python",
   "name": "python",
   "nbconvert_exporter": "python",
   "pygments_lexer": "ipython3",
   "version": "3.12.7"
  }
 },
 "nbformat": 4,
 "nbformat_minor": 5
}
