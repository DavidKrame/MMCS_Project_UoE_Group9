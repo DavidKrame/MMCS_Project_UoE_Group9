{
 "cells": [
  {
   "cell_type": "markdown",
   "id": "f39a3d9a-cdb5-4341-a11e-fd0608e24981",
   "metadata": {},
   "source": [
    "# MOVIE DB PREPROCESSING"
   ]
  },
  {
   "cell_type": "code",
   "execution_count": 1,
   "id": "6def0589-32eb-489a-80a0-16507ea83635",
   "metadata": {},
   "outputs": [],
   "source": [
    "import pandas as pd\n",
    "\n",
    "movie_db_df = pd.read_csv('data/movie_database_with_license_fee.csv', parse_dates=['release_date'])\n",
    "\n",
    "filtered_df = movie_db_df[\n",
    "    (movie_db_df['vote_average'] >= 5.5) & \n",
    "    (movie_db_df['vote_average'] <= 7.5) & \n",
    "    (movie_db_df['release_date'] > '2000-01-01') & \n",
    "    (movie_db_df['revenue'] > movie_db_df['budget']) & \n",
    "    (movie_db_df['license_fee'] < 1e6)\n",
    "]\n",
    "\n",
    "filtered_df.to_csv('data/filtered_movie_database.csv', index=False)"
   ]
  },
  {
   "cell_type": "code",
   "execution_count": 4,
   "id": "948ca29d-0782-47d5-90b1-dcbe58227073",
   "metadata": {},
   "outputs": [],
   "source": [
    "filtered_movie_db_df = pd.read_csv('data/filtered_movie_database.csv', parse_dates=['release_date'])"
   ]
  },
  {
   "cell_type": "code",
   "execution_count": 5,
   "id": "43a5d1f1-9862-4a3c-98e5-554597177db9",
   "metadata": {},
   "outputs": [
    {
     "name": "stdout",
     "output_type": "stream",
     "text": [
      "5920\n",
      "2052\n"
     ]
    }
   ],
   "source": [
    "print(len(movie_db_df))\n",
    "print(len(filtered_movie_db_df))"
   ]
  },
  {
   "cell_type": "code",
   "execution_count": 25,
   "id": "143618db-128f-48be-9dab-defafa0e2af0",
   "metadata": {},
   "outputs": [
    {
     "name": "stdout",
     "output_type": "stream",
     "text": [
      "Constant feature indices (0-based): [5 6]\n",
      "Duplicate feature indices (0-based): [3, 4]\n",
      "Transformed X_train:\n",
      " [[ 1  2  3]\n",
      " [ 4  5  6]\n",
      " [ 7  8  9]\n",
      " [10 11 12]\n",
      " [13 14 15]\n",
      " [16 17 18]\n",
      " [19 20 21]\n",
      " [22 23 24]\n",
      " [25 26 27]\n",
      " [28 29 30]]\n"
     ]
    }
   ],
   "source": [
    "import numpy as np\n",
    "\n",
    "# Create a small dataset\n",
    "# 10 samples, 5 features (with 2 identical features and 1 constant feature)\n",
    "X_train = np.array([\n",
    "    [1, 2, 3, 3, 3, 7, 3],\n",
    "    [4, 5, 6, 6,6, 7, 3],\n",
    "    [7, 8, 9, 9,9, 7, 3],\n",
    "    [10, 11, 12,12, 12, 7, 3],\n",
    "    [13, 14, 15,15, 15, 7, 3],\n",
    "    [16, 17, 18,18, 18, 7, 3],\n",
    "    [19, 20, 21,21, 21, 7, 3],\n",
    "    [22, 23, 24,24, 24, 7, 3],\n",
    "    [25, 26, 27,27, 27, 7, 3],\n",
    "    [28, 29, 30,30, 30, 7, 3]\n",
    "])\n",
    "\n",
    "# Identify constant features\n",
    "constant_features = np.all(X_train == X_train[0, :], axis=0)\n",
    "constant_feature_indices = np.where(constant_features)[0]\n",
    "print(\"Constant feature indices (0-based):\", constant_feature_indices)\n",
    "\n",
    "# Filter out constant columns\n",
    "X_train = X_train[:, ~constant_features]\n",
    "\n",
    "# Identify duplicate features\n",
    "_, unique_indices = np.unique(X_train, axis=1, return_index=True)\n",
    "duplicate_feature_indices = [i for i in range(X_train.shape[1]) if i not in unique_indices]\n",
    "print(\"Duplicate feature indices (0-based):\", duplicate_feature_indices)\n",
    "\n",
    "# Sort indices to maintain order\n",
    "unique_indices = np.sort(unique_indices)\n",
    "\n",
    "# Filter out duplicate columns\n",
    "X_train = X_train[:, unique_indices]\n",
    "\n",
    "# Final transformed datasets\n",
    "print(\"Transformed X_train:\\n\", X_train)\n"
   ]
  },
  {
   "cell_type": "code",
   "execution_count": null,
   "id": "b6903c0f-a454-46b9-88a2-0771fc284815",
   "metadata": {},
   "outputs": [],
   "source": []
  }
 ],
 "metadata": {
  "kernelspec": {
   "display_name": "Python 3 (ipykernel)",
   "language": "python",
   "name": "python3"
  },
  "language_info": {
   "codemirror_mode": {
    "name": "ipython",
    "version": 3
   },
   "file_extension": ".py",
   "mimetype": "text/x-python",
   "name": "python",
   "nbconvert_exporter": "python",
   "pygments_lexer": "ipython3",
   "version": "3.12.7"
  }
 },
 "nbformat": 4,
 "nbformat_minor": 5
}
